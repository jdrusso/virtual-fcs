{
 "cells": [
  {
   "cell_type": "code",
   "execution_count": 709,
   "metadata": {
    "ExecuteTime": {
     "end_time": "2017-07-20T20:19:12.613212Z",
     "start_time": "2017-07-20T20:19:12.607670Z"
    },
    "collapsed": true
   },
   "outputs": [],
   "source": [
    "%matplotlib inline"
   ]
  },
  {
   "cell_type": "markdown",
   "metadata": {},
   "source": [
    "# Virtual FCS, using MD Simulation Data\n",
    "\n",
    "This goal of this notebook is to generate a simulated FCS measurement using data from a GROMACS simulation.\n",
    "\n",
    "The setup of the virtual system is a membrane with a circularly symmetric incident beam.\n",
    "\n",
    "Data is read in from an .xtc or .trr file, using a .gro file to define the system topology. Data frames from the input file are iterated through, and for each frame, a detected intensity from each lipid is calculated. The intensity trace and autocorrelation functions for each lipid, and for the total at each frame, are plotted."
   ]
  },
  {
   "cell_type": "markdown",
   "metadata": {
    "heading_collapsed": true
   },
   "source": [
    "## TODOs\n"
   ]
  },
  {
   "cell_type": "markdown",
   "metadata": {
    "hidden": true
   },
   "source": [
    "#### \u2612 Why don't autocorrelation curves look right? Flatness in middle is unexpected\n",
    "- Done. See below\n",
    " \n",
    "#### \u2612 Generate and plot autocorrelation curve prediction. I'm still not understanding something about autocorrelation curves - I don't see where the sigmoid shape comes from.\n",
    " - Done. Curves need to be plotted on a semilog scale in order to see the expected sigmoid shape.\n",
    " \n",
    "#### \u2612 Try autocorrelating the data myself instead of using acorr. Maybe something weird is happening with the way matplotlib does autocorrelation that isn't desirable.\n",
    " - Done. The manually autocorrelated data is identical to calling plt.acorr with normed=True\n",
    " \n",
    "#### \u2612 Parallelize data analysis\n",
    " - Tried it. The analysis is quite computationally cheap compared to the extra overhead from spawning new threads -- not worth the time saved by running the analysis in parallel.\n",
    " \n",
    "#### \u2612 Handle breaking data up into bins better -- currently ignores the remainder of lipids that don't fall into a bin. (I.e. 11 lipids, bin size 3, the remaining 2 that don't evenly fall into bins are discarded.)\n",
    " - Done. The leftover lipids are put into their own bin, which may be smaller than the BIN_SIZE.\n",
    " \n",
    "#### \u2612 How do PBC vs unwrapped affect prediction of diffusion constant?\n",
    " - Done. Don't appear to significant affect results.\n",
    " \n",
    "#### \u2610 Curve fit method seems to work better for small spot sizes, but 0.5-crossing method seems better for larger spots? Why?\n",
    "     \n",
    "[Checkbox symbols]:<> (\u2612 \u2610)"
   ]
  },
  {
   "cell_type": "markdown",
   "metadata": {
    "hidden": true
   },
   "source": [
    "It's recommended to 'unwrap' simulation data to remove potential artifacts from periodic boundary conditions in the simulation.\n",
    "\n",
    "### Method 1 (Better for big systems)\n",
    "The *best* way of doing this requires a trajectory file (i.e. `.xtc`, `.trr`), a `.gro`, and a `.tpr`. By doing this, the input data filesizes can be significantly reduced off the bat by selecting only the lipid groups to keep in the new trajectory file. This can be accomplished by running the following.\n",
    "\n",
    "When prompted to select a group, select only the group of lipids.\n",
    "\n",
    "`$>gmx trjconv -f <trajectory file> -s <.gro file> -o <output trajectory file> -pbc nojump`\n",
    "\n",
    "`$>gmx trjconv -f <.gro file> -s <.tpr file> -o <output .gro file> -pbc nojump`\n",
    "\n",
    "### Method 2\n",
    "This can also be done in one step, with only a trajectory file and a `.gro` file by selecting the group of ALL atoms when prompted.\n",
    "\n",
    "`$>gmx trjconv -f <trajectory file> -s <.gro file> -o <output trajectory file> -pbc nojump`"
   ]
  },
  {
   "cell_type": "markdown",
   "metadata": {
    "heading_collapsed": true
   },
   "source": [
    "## Notes on input data"
   ]
  },
  {
   "cell_type": "code",
   "execution_count": 710,
   "metadata": {
    "ExecuteTime": {
     "end_time": "2017-07-20T20:19:12.634645Z",
     "start_time": "2017-07-20T20:19:12.630523Z"
    },
    "collapsed": true,
    "hidden": true
   },
   "outputs": [],
   "source": [
    "trajectory_file = \"40nm/run_nojump.xtc\"\n",
    "trr_file = \"40nm/run.trr\"\n",
    "topology_file = \"40nm/system.gro\""
   ]
  },
  {
   "cell_type": "code",
   "execution_count": 711,
   "metadata": {
    "ExecuteTime": {
     "end_time": "2017-07-20T20:19:12.651852Z",
     "start_time": "2017-07-20T20:19:12.639550Z"
    },
    "collapsed": true,
    "hidden": true
   },
   "outputs": [],
   "source": [
    "import mdtraj as md\n",
    "import numpy as np\n",
    "from scipy.optimize import curve_fit, fsolve\n",
    "from scipy.interpolate import interp1d\n",
    "import matplotlib.pyplot as plt\n",
    "\n",
    "import multiprocessing\n",
    "from multiprocessing.pool import ThreadPool\n",
    "\n",
    "import trajectory\n",
    "\n",
    "plt.rcParams['figure.figsize'] = (20, 12)"
   ]
  },
  {
   "cell_type": "markdown",
   "metadata": {},
   "source": [
    "## Simulation constants"
   ]
  },
  {
   "cell_type": "markdown",
   "metadata": {
    "heading_collapsed": true
   },
   "source": [
    "#### Detection area parameters\n",
    "\n",
    "`spot_radius` is used to determine whether a particle is within the detection area. Currently, this is unused, as cutoff is determined by the sigma of the beam Gaussian."
   ]
  },
  {
   "cell_type": "code",
   "execution_count": 712,
   "metadata": {
    "ExecuteTime": {
     "end_time": "2017-07-20T20:19:12.659861Z",
     "start_time": "2017-07-20T20:19:12.654069Z"
    },
    "collapsed": true,
    "hidden": true
   },
   "outputs": [],
   "source": [
    "# Radius of detection area (in nanometers)\n",
    "spot_radius = 50 # Currently unused\n",
    "\n",
    "# Coordinates of detection area center (in nanometers)\n",
    "spotX = 0.0\n",
    "spotY = 0.0\n",
    "spotZ = 10.0 # This isn't used, since we're looking at 2D membranes"
   ]
  },
  {
   "cell_type": "markdown",
   "metadata": {},
   "source": [
    "#### Gaussian parameters\n",
    "\n",
    "Note that what's being set here is the std. deviation `w_xy` of the Gaussian - spot size is probably more accurately represented by the FWHM, or `w_xy * 2.3548`"
   ]
  },
  {
   "cell_type": "code",
   "execution_count": 713,
   "metadata": {
    "ExecuteTime": {
     "end_time": "2017-07-20T20:19:12.670590Z",
     "start_time": "2017-07-20T20:19:12.666112Z"
    },
    "collapsed": true
   },
   "outputs": [],
   "source": [
    "#   Radial and axial std. dev.s of the Gaussian beam profile\n",
    "FWHM = 50.\n",
    "w_xy = FWHM / 2.3548\n",
    "w_z = 2 # Unused\n",
    "k = w_z/w_xy # Unused, just considering a 2-D membrane"
   ]
  },
  {
   "cell_type": "markdown",
   "metadata": {},
   "source": [
    "#### Various simulation parameters\n",
    "\n",
    "`STEP` is the stride used when iterating through data frames. Data frames are taken every timestep.\n",
    "\n",
    "`INTENSITY` is a scaling constant used to determine the maximum intensity of fluorescence.\n",
    "\n",
    "`SAMPLING_RATIO` defines the percentage of particles to be 'tagged'. Untagged particles are discarded at the beginning of the simulation.\n",
    "\n",
    "`CUTOFF` defines a cutoff for the beam profile. This may be useful to avoid artifacts from periodic boundary conditions."
   ]
  },
  {
   "cell_type": "code",
   "execution_count": 740,
   "metadata": {
    "ExecuteTime": {
     "end_time": "2017-07-20T20:32:47.785919Z",
     "start_time": "2017-07-20T20:32:47.773114Z"
    },
    "collapsed": true
   },
   "outputs": [],
   "source": [
    "# Step size for iterating through data frames\n",
    "STEP = 1\n",
    "\n",
    "# Scaling constant for the intensity of a fluorescing particle\n",
    "INTENSITY = 1\n",
    "\n",
    "# Percentage of tagged particles\n",
    "SAMPLING_RATIO = .1\n",
    "\n",
    "# How many sigmas out from the beam center to truncate the beam's Gaussian profile at\n",
    "CUTOFF = 2.5\n",
    "\n",
    "# How many lipids to bin into a single trajectory\n",
    "BIN_SIZE = 50\n",
    "\n",
    "# How many random spots to use\n",
    "N_SPOTS = 4"
   ]
  },
  {
   "cell_type": "markdown",
   "metadata": {},
   "source": [
    "#### Diffusion parameters\n",
    "\n",
    "`D` is the diffusion constant for POPC, ~~using data from https://www.ncbi.nlm.nih.gov/pmc/articles/PMC1303347/~~ using values from Andrew's STRD paper$^{[2]}$, in units of nm^2/ns.\n",
    "\n",
    "`tauD` is the expected diffusion time, or the time of the half-max for the autocorrelation curve."
   ]
  },
  {
   "cell_type": "code",
   "execution_count": 715,
   "metadata": {
    "ExecuteTime": {
     "end_time": "2017-07-20T20:19:12.697768Z",
     "start_time": "2017-07-20T20:19:12.692866Z"
    }
   },
   "outputs": [],
   "source": [
    "#D = .01 From NIH paper\n",
    "D = .0245\n",
    "D = 4\n",
    "tauD = FWHM**2 / (4*D)\n",
    "print(\"Expected diffusion time is %.2f nanoseconds\" % tauD)"
   ]
  },
  {
   "cell_type": "markdown",
   "metadata": {},
   "source": [
    "## Expected diffusion times for various beam waists"
   ]
  },
  {
   "cell_type": "code",
   "execution_count": 716,
   "metadata": {
    "ExecuteTime": {
     "end_time": "2017-07-20T20:19:12.719853Z",
     "start_time": "2017-07-20T20:19:12.710520Z"
    }
   },
   "outputs": [],
   "source": [
    "beam_waists = np.arange(10,100,5) # In nanometers\n",
    "print(\"beam FWHM (nm)\".ljust(16) + \"|\" + \"tau_D (ns)\".rjust(15))\n",
    "print(\"-\"*27)\n",
    "for v in beam_waists:\n",
    "    print(str(v).ljust(16) + \"|\" + str(v ** 2 / (4*D)).rjust(15) )"
   ]
  },
  {
   "cell_type": "markdown",
   "metadata": {
    "heading_collapsed": true
   },
   "source": [
    "## Useful functions"
   ]
  },
  {
   "cell_type": "markdown",
   "metadata": {
    "hidden": true
   },
   "source": [
    "### `check_in_detection_volume`\n",
    "Function to check if a given lipid is within the detection volume.\n",
    "\n",
    "Right now, we're interested in contributions from all lipids regardless of position, so the `return True` short circuits it. "
   ]
  },
  {
   "cell_type": "code",
   "execution_count": 717,
   "metadata": {
    "ExecuteTime": {
     "end_time": "2017-07-20T20:19:12.744806Z",
     "start_time": "2017-07-20T20:19:12.732479Z"
    },
    "collapsed": true,
    "hidden": true
   },
   "outputs": [],
   "source": [
    "def check_in_detection_volume(t, frame_index, residue):\n",
    "\n",
    "    # For now, pay attention to all atoms, regardless of whether or not they're\n",
    "    #   in the detection volume. \n",
    "    # Keep this function as a placeholder, in case this changes.\n",
    "    return True\n",
    "\n",
    "    x, y, z = t.xyz[frame_index, residue._atoms[0].index]\n",
    "\n",
    "    # Get magnitude of distance to the spot center\n",
    "    distance = (x - spotX)**2 + (y - spotY)**2\n",
    "\n",
    "    # Check if the distance is within the spot radius\n",
    "    in_detection_area = distance <= spot_radius**2\n",
    "\n",
    "    return in_detection_area"
   ]
  },
  {
   "cell_type": "markdown",
   "metadata": {
    "hidden": true
   },
   "source": [
    "### `generate_detection`\n",
    "Defines what happens when a detection is generated from a lipid. Right now, `INTENSITY` is weighted by a 2-D Gaussian determined by the cell's position:\n",
    "\n",
    "$I = I_0 \\exp{ \\left( - \\frac{(x-x_0)^2 + (y-y_0)^2 }{2 \\sigma^2} \\right) }$\n",
    "\n",
    "#### Inputs\n",
    "- `t`: mdtraj.Trajectory object\n",
    "- `frame_index`: index of frame to analyze in trajectory  \n",
    "- `atom`: mdtraj.Atom object to be used for detection\n",
    "\n",
    "#### Returns\n",
    "- Intensity contribution from `atom`"
   ]
  },
  {
   "cell_type": "code",
   "execution_count": 718,
   "metadata": {
    "ExecuteTime": {
     "end_time": "2017-07-20T20:19:12.769128Z",
     "start_time": "2017-07-20T20:19:12.749233Z"
    },
    "collapsed": true,
    "hidden": true
   },
   "outputs": [],
   "source": [
    "def generate_detection(t, frame_index, atom, spotcenter):\n",
    "    \n",
    "    _x = spotcenter[0]\n",
    "    _y = spotcenter[1]\n",
    "\n",
    "    # Get coordinates of residue (more correctly, of the P atom)\n",
    "    #x, y, z = t.xyz[frame_index, residue._atoms[0].index]\n",
    "    x, y, z = t.xyz[frame_index, atom.index]\n",
    "    \n",
    "    # Get magnitude of distance to the spot center\n",
    "    distance = (x - _x)**2 + (y - _y)**2\n",
    "    \n",
    "    # Truncate at 2 sigma\n",
    "    if distance > CUTOFF**2 * w_xy**2:\n",
    "        return 0.0\n",
    "\n",
    "    # Calculate contribution to intensity from an atom, based on the Gaussian\n",
    "    #   profile of the incident beam and the particle's position.\n",
    "    intensity = \\\n",
    "        INTENSITY * np.exp(\n",
    "        -( distance ) # + ((z - spotZ)/k)**2)\n",
    "        / (2 * w_xy**2) )\n",
    "\n",
    "    return intensity"
   ]
  },
  {
   "cell_type": "markdown",
   "metadata": {
    "hidden": true
   },
   "source": [
    "### `analyze_frame`\n",
    "\n",
    "Analyzes the positions of atoms in a given frame, and updates the `detections` list with each atom's position.\n",
    "\n",
    "#### Inputs\n",
    "- `t`: mdtraj.Trajectory object\n",
    "- `frame_index`: index of frame to analyze in trajectory  \n",
    "- `detections`: shared list of all detections"
   ]
  },
  {
   "cell_type": "code",
   "execution_count": 719,
   "metadata": {
    "ExecuteTime": {
     "end_time": "2017-07-20T20:19:12.786110Z",
     "start_time": "2017-07-20T20:19:12.770922Z"
    },
    "collapsed": true,
    "hidden": true
   },
   "outputs": [],
   "source": [
    "def analyze_frame(t, frame_index, detections, spot_number=0, spotcenter=(spotX, spotY)): \n",
    "    \n",
    "    print(\"\\rProcessing frame %d out of %d\" % (frame_index/STEP, len(t)/STEP), end=\"\\r\")\n",
    "\n",
    "    # Iterate through each atom remaining in the topology\n",
    "    for atom in t.topology.atoms:\n",
    "\n",
    "        # Do analysis if atom is in detection volume\n",
    "        if not check_in_detection_volume(t, frame_index, atom):\n",
    "            print(\"Not in detection volume, skipping.\")\n",
    "            continue\n",
    "\n",
    "        detected = generate_detection(t, frame_index, atom, spotcenter)\n",
    "        \n",
    "        detections[spot_number][atom.index][int(frame_index/STEP)] += detected"
   ]
  },
  {
   "cell_type": "markdown",
   "metadata": {
    "hidden": true
   },
   "source": [
    "### `autocorr_model`\n",
    "\n",
    "Models the expected autocorrelation curve at a given time, for a given diffusion constant.\n",
    "\n",
    "#### Inputs\n",
    "- `t`: Time to calculate autocorrelation at\n",
    "- `D`: Diffusion constant\n",
    "\n",
    "#### Returns\n",
    "- Value of autocorrelation curve at time `t`"
   ]
  },
  {
   "cell_type": "code",
   "execution_count": 720,
   "metadata": {
    "ExecuteTime": {
     "end_time": "2017-07-20T20:19:12.791759Z",
     "start_time": "2017-07-20T20:19:12.787804Z"
    },
    "collapsed": true,
    "hidden": true
   },
   "outputs": [],
   "source": [
    "def autocorr_model(t, D):\n",
    "    tauD = FWHM**2 / (4*D)\n",
    "    \n",
    "    return (1 + t / tauD)**(-1)"
   ]
  },
  {
   "cell_type": "markdown",
   "metadata": {
    "hidden": true
   },
   "source": [
    "### `autocorrelate`\n",
    "Computes the autocorrelation curve for a set of data."
   ]
  },
  {
   "cell_type": "code",
   "execution_count": 721,
   "metadata": {
    "ExecuteTime": {
     "end_time": "2017-07-20T20:19:12.811557Z",
     "start_time": "2017-07-20T20:19:12.805032Z"
    },
    "collapsed": true,
    "hidden": true
   },
   "outputs": [],
   "source": [
    "def autocorrelate(_data, normed=True):\n",
    "    if normed:\n",
    "        normalized = _data/np.linalg.norm(_data)\n",
    "        \n",
    "    autocorrelated = np.correlate(normalized, normalized, mode='full')\n",
    "    autocorrelated = autocorrelated[(autocorrelated.size-1)//2 :]\n",
    "    \n",
    "    return autocorrelated"
   ]
  },
  {
   "cell_type": "markdown",
   "metadata": {
    "heading_collapsed": true
   },
   "source": [
    "## Load trajectory data"
   ]
  },
  {
   "cell_type": "markdown",
   "metadata": {
    "hidden": true
   },
   "source": [
    "Import FCS data from .xtc file. Also specify a .gro file for the system topology.\n",
    "\n",
    "**NB:** A .trr file can be used for better resolution, since an .xtc typically uses some compression. However, a .trr is also much larger."
   ]
  },
  {
   "cell_type": "code",
   "execution_count": 722,
   "metadata": {
    "ExecuteTime": {
     "end_time": "2017-07-20T20:19:12.820356Z",
     "start_time": "2017-07-20T20:19:12.817137Z"
    },
    "hidden": true
   },
   "outputs": [],
   "source": [
    "%%time\n",
    "#t = md.load(trajectory_file, top=topology_file)\n",
    "#t = md.load_trr(trr_file, top=topology_file)"
   ]
  },
  {
   "cell_type": "markdown",
   "metadata": {
    "hidden": true
   },
   "source": [
    "Calculate timestep for data analysis, given the simulation data timestep and current stride."
   ]
  },
  {
   "cell_type": "code",
   "execution_count": 723,
   "metadata": {
    "ExecuteTime": {
     "end_time": "2017-07-20T20:19:12.838246Z",
     "start_time": "2017-07-20T20:19:12.836118Z"
    },
    "collapsed": true,
    "hidden": true
   },
   "outputs": [],
   "source": [
    "# print(\"Timestep for data analysis is %.2f picoseconds (%.2f nanoseconds)\" % (t.timestep * STEP, t.timestep * STEP / 1000))"
   ]
  },
  {
   "cell_type": "markdown",
   "metadata": {
    "heading_collapsed": true
   },
   "source": [
    "## Reduce atom selection to only phosphorous atoms\n",
    "\n",
    "This is a bit of a simplification, but significantly reduces the amount of atoms to iterate over if we're only considering the phosphorous at the center of the phosphate group. Error from this would be on the order of the bond lengths, so roughly 1.5 angstrom."
   ]
  },
  {
   "cell_type": "code",
   "execution_count": 724,
   "metadata": {
    "ExecuteTime": {
     "end_time": "2017-07-20T20:19:12.859302Z",
     "start_time": "2017-07-20T20:19:12.855294Z"
    },
    "collapsed": true,
    "hidden": true
   },
   "outputs": [],
   "source": [
    "# print(\"Starting with %d atoms\" % t.topology.n_atoms)\n",
    "\n",
    "# phosphorous_atoms = [a.index for a in t.topology.atoms if a.element.symbol == 'P']\n",
    "# t.atom_slice(phosphorous_atoms, inplace=True)\n",
    "\n",
    "# print(\"Reduced to %d phosphorous atoms\" % t.topology.n_atoms)\n",
    "\n",
    "# # Reduce to the sampling ratio * number of phosphorous atoms\n",
    "# num_sampled = int(t.topology.n_atoms * SAMPLING_RATIO)\n",
    "\n",
    "# # Randomly select the sampled atoms\n",
    "# sampled = np.random.choice([a.index for a in t.topology.atoms], num_sampled, replace=False)\n",
    "# t.atom_slice(sampled, inplace=True)\n",
    "\n",
    "# print(\"Reduced to %d \\\"tagged\\\" phosphorous atoms\" % t.topology.n_atoms)"
   ]
  },
  {
   "cell_type": "markdown",
   "metadata": {
    "heading_collapsed": true
   },
   "source": [
    "## Import data from Pickle file"
   ]
  },
  {
   "cell_type": "code",
   "execution_count": 725,
   "metadata": {
    "ExecuteTime": {
     "end_time": "2017-07-20T20:19:16.204184Z",
     "start_time": "2017-07-20T20:19:12.885055Z"
    },
    "hidden": true
   },
   "outputs": [],
   "source": [
    "import pickle\n",
    "t = pickle.load(open('../../windrive/linux/output.pkl', 'rb'))\n",
    "print(\"Shape is %s, reducing by %d%%.\" % (np.shape(t.xyz), 100-SAMPLING_RATIO*100))\n",
    "# t.xyz = t.xyz[:10000]\n",
    "t.reduce(SAMPLING_RATIO)\n",
    "print(np.shape(t.xyz))"
   ]
  },
  {
   "cell_type": "markdown",
   "metadata": {
    "hidden": true
   },
   "source": [
    "Create a list of lists to store detected intensity at each timestep for each lipid."
   ]
  },
  {
   "cell_type": "code",
   "execution_count": 726,
   "metadata": {
    "ExecuteTime": {
     "end_time": "2017-07-20T20:19:16.226166Z",
     "start_time": "2017-07-20T20:19:16.205543Z"
    },
    "hidden": true
   },
   "outputs": [],
   "source": [
    "%%time\n",
    "detections = np.full(shape=(N_SPOTS, t.topology.n_residues, int(np.ceil(len(t)/STEP))), fill_value=0.0)"
   ]
  },
  {
   "cell_type": "markdown",
   "metadata": {},
   "source": [
    "## Data Analysis\n",
    "\n",
    "Iterate through each frame of data in the trajectory file, and generate a detected intensity from each lipid (represented by its head group P atom)."
   ]
  },
  {
   "cell_type": "code",
   "execution_count": 727,
   "metadata": {
    "ExecuteTime": {
     "end_time": "2017-07-20T20:21:12.231774Z",
     "start_time": "2017-07-20T20:19:16.227512Z"
    }
   },
   "outputs": [],
   "source": [
    "spot_centers = np.random.uniform(-750,750, size=(N_SPOTS,2))\n",
    "\n",
    "def analyze_spot(t, spot, detections, spot_num):\n",
    "    for frame_index in range(0, len(t), STEP):\n",
    "        analyze_frame(t, frame_index, detections, spot_num, spot)\n",
    "\n",
    "pool = ThreadPool()\n",
    "\n",
    "print(\"Performing analysis for %d randomly assigned spots, parallelized over %d cores.\" % (N_SPOTS, multiprocessing.cpu_count()))\n",
    "\n",
    "for i in range(N_SPOTS):\n",
    "    print(\"\\nStarting job %d\\n\" % i)\n",
    "    pool.apply_async(analyze_spot, args=(t, spot_centers[i], detections, i))\n",
    "    \n",
    "pool.close()\n",
    "pool.join()"
   ]
  },
  {
   "cell_type": "markdown",
   "metadata": {},
   "source": [
    "### Bin lipids in data\n",
    "\n",
    "`binned_tots[bin][timestep]` is the total intensity for a certain bin at a certain timestep\n",
    "\n",
    "`binned_avgs[bin]` is the average intensity for a bin, over the whole time\n",
    "\n",
    "`binned_dI[bin][timestep]` is the difference of the total intensity from the average at a given timestep\n",
    "\n",
    "`binned_tot[timestep]` is the total intensity from all bins at a certain timestep"
   ]
  },
  {
   "cell_type": "code",
   "execution_count": 741,
   "metadata": {
    "ExecuteTime": {
     "end_time": "2017-07-20T20:33:27.002015Z",
     "start_time": "2017-07-20T20:33:26.688285Z"
    },
    "scrolled": true
   },
   "outputs": [],
   "source": [
    "n_bins = int(np.ceil(t.topology.n_residues/BIN_SIZE))\n",
    "\n",
    "print(t.topology.n_residues)\n",
    "print(BIN_SIZE)\n",
    "\n",
    "if not t.topology.n_residues%BIN_SIZE == 0:\n",
    "    print(\"Number of residues is not evenly divisible by bin size. Desired size is %d, one bin will contain %d.\" % (BIN_SIZE, t.topology.n_residues%BIN_SIZE) )\n",
    "\n",
    "binned_tots = np.ndarray(shape=(N_SPOTS, n_bins, len(t)))\n",
    "binned_avgs = np.ndarray(shape=(N_SPOTS, n_bins, len(t)))\n",
    "binned_dI = np.ndarray(shape=(N_SPOTS, n_bins, len(t)))\n",
    "binned_tot = np.ndarray(shape=(N_SPOTS, len(t)))\n",
    "    \n",
    "for spot_num in range(N_SPOTS):\n",
    "    print(\"Sorting data into %d groups\" % n_bins)\n",
    "\n",
    "    binned =  [ [] for x in range(t.topology.n_residues//BIN_SIZE) ]\n",
    "\n",
    "\n",
    "    # TODO: May want to use np.random.choice to randomly select the binned lipids, though the choice of lipids to sample is already random\n",
    "    # For each group...\n",
    "    for g in range(n_bins):\n",
    "\n",
    "        # Pick the slice of detections that are relevant to it\n",
    "        _detections = [x for x in detections[spot_num][g*BIN_SIZE:BIN_SIZE*(g+1)]]\n",
    "\n",
    "\n",
    "        avg_I = np.mean(_detections)\n",
    "        tot_I = np.sum(_detections, axis=0)\n",
    "\n",
    "        delta_I = [tot_I[x] - avg_I for x in range(len(tot_I))]\n",
    "\n",
    "\n",
    "        binned_tots[spot_num][g] = tot_I\n",
    "        binned_avgs[spot_num][g] = avg_I\n",
    "        binned_dI[spot_num][g] = delta_I\n",
    "\n",
    "    # binned_tot = np.sum(binned_tots, axis=0) - np.mean(binned_tots)\n",
    "    binned_tot[spot_num] = np.mean(binned_dI[spot_num], axis=0)"
   ]
  },
  {
   "cell_type": "code",
   "execution_count": 742,
   "metadata": {
    "ExecuteTime": {
     "end_time": "2017-07-20T20:33:27.006109Z",
     "start_time": "2017-07-20T20:33:27.003275Z"
    }
   },
   "outputs": [],
   "source": [
    "np.shape(binned_dI)"
   ]
  },
  {
   "cell_type": "markdown",
   "metadata": {},
   "source": [
    "## Plotting"
   ]
  },
  {
   "cell_type": "markdown",
   "metadata": {},
   "source": [
    "### Intensity Traces\n",
    "Plot the intensity traces for the individual lipids, and for the summed intensities."
   ]
  },
  {
   "cell_type": "code",
   "execution_count": 743,
   "metadata": {
    "ExecuteTime": {
     "end_time": "2017-07-20T20:33:27.453902Z",
     "start_time": "2017-07-20T20:33:27.007198Z"
    }
   },
   "outputs": [],
   "source": [
    "################## Plot intensity traces #############################\n",
    "# Plot the intensities of detections associated with each lipid\n",
    "plt.subplot(221)\n",
    "# for _data in binned_dI:\n",
    "#     plt.plot(np.arange(0, len(t), 1), _data, marker='o', markersize=.5 ) \n",
    "plt.xlabel(\"Time (ns)\")\n",
    "plt.ylabel(\"Intensity\")\n",
    "plt.title(\"Intensity Trace\")\n",
    "\n",
    "# Plot sum of intensities (i.e. what a detector would see)\n",
    "plt.subplot(222)\n",
    "for spot_num in range(N_SPOTS):\n",
    "    plt.plot(np.arange(0, len(t), 1), binned_tot[spot_num], marker='None', label=\"Spot %d\" % spot_num)\n",
    "# plt.plot(np.arange(0, len(t), 1), binned_tot[0], marker='None', markersize=.5 ) \n",
    "# summed_data = np.sum(intensities, axis=0)\n",
    "# #plt.plot(np.arange(0,len(summed_data), 1), summed_data, marker = 'o', markersize=.1, )\n",
    "# plt.plot(np.arange(0,len(binned), 1), [x[1] for x in binned], marker = 'o', markersize=.1, )\n",
    "plt.legend()\n",
    "plt.xlabel(\"Time (ns)\")\n",
    "plt.ylabel(\"Intensity\")\n",
    "plt.title(\"Summed Intensity Trace\")"
   ]
  },
  {
   "cell_type": "markdown",
   "metadata": {},
   "source": [
    "### Autocorrelations\n",
    "Plot the autocorrelation functions for the individual lipids tracked, and for the summed intensities of all of them."
   ]
  },
  {
   "cell_type": "code",
   "execution_count": 744,
   "metadata": {
    "ExecuteTime": {
     "end_time": "2017-07-20T20:33:31.947853Z",
     "start_time": "2017-07-20T20:33:27.455288Z"
    }
   },
   "outputs": [],
   "source": [
    "# Don't set the max lag to greater than the number of datapoints..\n",
    "# max_lag = min([100 * int(tauD), (len(t) -1) * STEP])\n",
    "max_lag = (len(t)-1) * STEP\n",
    "\n",
    "tauD = FWHM**2 / (4*D)\n",
    "\n",
    "# Individual data\n",
    "plt.subplot(221)\n",
    "plt.xscale('log')\n",
    "\n",
    "# for _data in binned_dI:\n",
    "#     plt.acorr(_data, maxlags=max_lag, usevlines=False, linestyle='-', marker=\"None\", normed=True)\n",
    "\n",
    "plt.xlabel(\"Time lag (ns)\")\n",
    "plt.title(\"Normalized Autocorrelation\")\n",
    "\n",
    "# Plot model curve\n",
    "_x = np.arange(0,len(t), 1)\n",
    "_G =(1 + _x / tauD)**(-1)\n",
    "plt.plot(_x, _G, linestyle='--', linewidth=4)\n",
    "    \n",
    "# Plot tau_D, diffusion time\n",
    "plt.axvline(tauD)\n",
    "plt.xticks(list(plt.xticks()[0]) + [tauD], list(plt.xticks()[0]) + ['tau_D'])\n",
    "plt.xlim([0,max_lag])\n",
    "\n",
    "\n",
    "# Summed data\n",
    "plt.subplot(222)\n",
    "plt.xscale('log')\n",
    "\n",
    "for spot_num in range(N_SPOTS):\n",
    "    plt.acorr(binned_tot[spot_num], maxlags=max_lag, usevlines=False, linestyle='-', marker=\"None\", normed=True, label=\"Data - Spot %d\" % spot_num)\n",
    "\n",
    "\n",
    "# Plot model curve\n",
    "_x = np.arange(0,len(t), 1)\n",
    "# _G = (1 + _x / tauD)**(-1)\n",
    "plt.plot(_x, autocorr_model(_x, D*1), linestyle='--', linewidth=4, label=\"Model\")\n",
    "\n",
    "plt.xlabel(\"Time lag (ns)\")\n",
    "plt.title(\"Normalized Autocorrelation\")\n",
    "    \n",
    "# Plot tau_D, diffusion time\n",
    "plt.axvline(tauD)\n",
    "plt.xticks(list(plt.xticks()[0]) + [tauD], list(plt.xticks()[0]) + ['tau_D'])\n",
    "plt.xlim([0,max_lag])\n",
    "plt.legend()"
   ]
  },
  {
   "cell_type": "markdown",
   "metadata": {},
   "source": [
    "## Determine diffusion coefficient from FCS data\n",
    "\n",
    "The following cells determine the diffusion coefficient from the FCS data using two different techniques. The binned and summed data are treated separately. First, a curve is fit to the autocorrelation curve using the diffusion constant as the parameter."
   ]
  },
  {
   "cell_type": "markdown",
   "metadata": {
    "heading_collapsed": true
   },
   "source": [
    "### Curve Fit Method\n",
    "\n",
    "Using the equation for diffusion in a membrane presented by Schwille$^{[1]}$, attempt to fit the FCS data to a function of the form\n",
    "\n",
    "$G(t) = \\frac{1}{N} \\left(1 + \\frac{t}{\\tau_D} \\right)^{-1}$, where\n",
    "\n",
    "$\\tau_D = \\frac{w_{xy}^2}{4 D}$\n",
    "\n",
    "Since the autocorrelation curves are normalized, $N$ is set to 1.\n"
   ]
  },
  {
   "cell_type": "markdown",
   "metadata": {
    "heading_collapsed": true,
    "hidden": true
   },
   "source": [
    "#### Binned data"
   ]
  },
  {
   "cell_type": "code",
   "execution_count": 745,
   "metadata": {
    "ExecuteTime": {
     "end_time": "2017-07-20T20:33:31.953996Z",
     "start_time": "2017-07-20T20:33:31.949341Z"
    },
    "collapsed": true,
    "hidden": true
   },
   "outputs": [],
   "source": [
    "# _x = np.arange(0, len(t), 1)\n",
    "\n",
    "# plt.xscale('log')\n",
    "# optimals = []\n",
    "# covariances = []\n",
    "# i = 0\n",
    "# for _data in binned_dI:\n",
    "#     i+= 1\n",
    "#     print(i, end=\"\\r\")\n",
    "    \n",
    "#     autocorrelated = autocorrelate(_data)\n",
    "    \n",
    "#     _optimal, _covariance = curve_fit(autocorr_model, _x, autocorrelated, p0=D)\n",
    "#     optimals.append(_optimal)\n",
    "#     covariances.append(_covariance)\n",
    "    \n",
    "#     plt.plot(_x, autocorrelated)\n",
    "#     plt.plot(_x, autocorr_model(_x, _optimal), linestyle='--')\n",
    "    \n",
    "# var = [np.sqrt(np.diag(x)) for x in covariances]\n",
    "    \n",
    "# print(\"Average D from data was %f +- %f\" % (np.mean(optimals), np.mean(var)))\n",
    "# plt.xlim([0,len(t)])"
   ]
  },
  {
   "cell_type": "markdown",
   "metadata": {
    "heading_collapsed": true,
    "hidden": true
   },
   "source": [
    "#### Summed data"
   ]
  },
  {
   "cell_type": "code",
   "execution_count": 746,
   "metadata": {
    "ExecuteTime": {
     "end_time": "2017-07-20T20:33:31.973096Z",
     "start_time": "2017-07-20T20:33:31.955299Z"
    },
    "collapsed": true,
    "hidden": true
   },
   "outputs": [],
   "source": [
    "# autocorrelated = autocorrelate(binned_tot)\n",
    "\n",
    "# normalized = binned_tot/np.linalg.norm(binned_tot)\n",
    "\n",
    "# optimal, covariance = curve_fit(autocorr_model, _x, autocorrelated, p0=D)\n",
    "\n",
    "# print(\"D was set at %f\" % D)\n",
    "# print(\"D estimated at %f +- %f.\" % (optimal, np.sqrt(np.diag(covariance))))\n",
    "\n",
    "# plt.xscale('log')\n",
    "\n",
    "# # Orange line is using the known diffusion constant\n",
    "# plt.plot(_x, autocorr_model(_x, D), linestyle='--', label=\"Model - Known D\")\n",
    "# plt.acorr(binned_tot, maxlags=max_lag, usevlines=False, linestyle='-', marker=\"None\", normed=True, label=\"Data\")\n",
    "\n",
    "# # Black line is using the calculated diffusion constant\n",
    "# plt.plot(_x, autocorr_model(_x, optimal), linestyle='--', color='black', label=\"Model - Calced D\")\n",
    "# var = np.sqrt(np.diag(covariance))\n",
    "\n",
    "# _y1 = autocorr_model(_x, optimal+var)\n",
    "# _y2 = autocorr_model(_x, optimal-var)\n",
    "\n",
    "# plt.fill_between(_x, _y1, _y2)\n",
    "\n",
    "# plt.xlim([0,len(t)])\n",
    "# plt.legend()"
   ]
  },
  {
   "cell_type": "markdown",
   "metadata": {},
   "source": [
    "### .5 crossing method\n",
    "This method determines $\\tau_D$ first by looking for where the normalized autocorrelation crosses 0.5, then computes the diffusion coefficient from that using the same formula as above, solved for $D$\n",
    "\n",
    "$D = \\frac{w_{xy}^2}{4 \\tau_D}$"
   ]
  },
  {
   "cell_type": "markdown",
   "metadata": {},
   "source": [
    "#### Binned data"
   ]
  },
  {
   "cell_type": "code",
   "execution_count": 752,
   "metadata": {
    "ExecuteTime": {
     "end_time": "2017-07-20T20:35:58.163214Z",
     "start_time": "2017-07-20T20:35:50.621405Z"
    },
    "scrolled": false
   },
   "outputs": [],
   "source": [
    "_x = np.arange(0, len(t), 1)\n",
    "ax = plt.gca()\n",
    "\n",
    "crossings = []\n",
    "\n",
    "plt.xscale('log')\n",
    "for spot_num in range(N_SPOTS):\n",
    "    for _data in binned_dI[spot_num]:\n",
    "\n",
    "        autocorrelated = autocorrelate(_data)\n",
    "\n",
    "        interpolated = interp1d(_x, autocorrelated - .5)\n",
    "        crossing = fsolve(interpolated, tauD*.2)\n",
    "        crossings.append(crossing)\n",
    "\n",
    "        \n",
    "        color = ax._get_lines.get_next_color()\n",
    "        \n",
    "        plt.plot(_x, autocorrelated, color=color)\n",
    "\n",
    "        calced_D = FWHM**2 / (4 * crossing)\n",
    "        plt.plot(_x, autocorr_model(_x, calced_D), color=color, linestyle='--')\n",
    "    \n",
    "\n",
    "calced_D = [FWHM**2 / (4 * x) for x in crossings]\n",
    "\n",
    "\n",
    "plt.plot(_x, autocorr_model(_x, D), color='k', linestyle='-', linewidth=2, label=\"Model - Expected\")\n",
    "    \n",
    "\n",
    "# Plot tau_D, diffusion time\n",
    "calc_tauD = FWHM**2 / (4 * np.mean(calced_D))\n",
    "plt.axvline(calc_tauD)\n",
    "plt.axvline(tauD)\n",
    "\n",
    "plt.xticks(list(plt.xticks()[0]) + [calc_tauD, tauD], list(plt.xticks()[0]) + ['calculated tau_D', 'expected tau_D'])\n",
    "\n",
    "plt.xlim([0,len(t)])\n",
    "\n",
    "print(\"Average tau_D is %f +- %f\" % (np.mean(crossings), np.std(crossings)))\n",
    "print(\"Average diffusion constant is %.3f +- %.4f\" % (np.mean(calced_D), np.std(calced_D)))"
   ]
  },
  {
   "cell_type": "markdown",
   "metadata": {},
   "source": [
    "#### Summed data"
   ]
  },
  {
   "cell_type": "code",
   "execution_count": 753,
   "metadata": {
    "ExecuteTime": {
     "end_time": "2017-07-20T20:36:11.362663Z",
     "start_time": "2017-07-20T20:36:06.961257Z"
    },
    "scrolled": false
   },
   "outputs": [],
   "source": [
    "# plt.subplot(211)\n",
    "plt.xscale('log')\n",
    "ax = plt.gca()\n",
    "_x = np.arange(0, len(t), 1)\n",
    "\n",
    "Ds = []\n",
    "\n",
    "for spot_num in range(N_SPOTS):\n",
    "    \n",
    "    autocorrelated = autocorrelate(binned_tot[spot_num])\n",
    "\n",
    "    interpolated = interp1d(_x, autocorrelated - .5)\n",
    "    crossings = fsolve(interpolated, tauD*.5)\n",
    "    \n",
    "    print(crossings)\n",
    "\n",
    "    calced_D = [FWHM**2 / (4 * _tauD) for _tauD in crossings]\n",
    "\n",
    "    color = ax._get_lines.get_next_color()\n",
    "    plt.plot(_x, autocorrelated, color=color, label=\"Data - Spot %d\" % spot_num)\n",
    "    plt.plot(_x, autocorr_model(_x, calced_D[0]), color=color, linestyle='--', label=\"Model - Spot %d\" % spot_num)\n",
    "\n",
    "    print(\"Calculated D is %.3f, tau_D is %.3f\" % (np.mean(calced_D), FWHM**2 / (4 * calced_D[0])))\n",
    "    \n",
    "    Ds.append(calced_D)\n",
    "\n",
    "\n",
    "plt.plot(_x, autocorr_model(_x, D), color='k', linestyle='-', linewidth=2, label=\"Model - Expected\")\n",
    "    \n",
    "# Plot tau_D, diffusion time\n",
    "\n",
    "calc_tauD = FWHM**2 / (4 * np.mean(Ds))\n",
    "print(\"\\n\\nAvg. D is %.3f +- %.4f, yielding a tau_D of %.2f compared to the expected %.2f\" % (np.mean(Ds), np.std(Ds), calc_tauD, tauD))\n",
    "\n",
    "plt.axvline(calc_tauD)\n",
    "plt.axvline(tauD)\n",
    "\n",
    "plt.xticks(list(plt.xticks()[0]) + [calc_tauD, tauD], list(plt.xticks()[0]) + ['calculated tau_D', 'expected tau_D'])\n",
    "\n",
    "plt.legend()\n",
    "\n",
    "plt.xlim([0,len(t)])"
   ]
  },
  {
   "cell_type": "markdown",
   "metadata": {},
   "source": [
    "# Bibliography"
   ]
  },
  {
   "cell_type": "markdown",
   "metadata": {},
   "source": [
    "[1] Chiantia, Salvatore, Jonas Ries, and Petra Schwille. \"Fluorescence correlation spectroscopy in membrane structure elucidation.\" Biochimica et Biophysica Acta (BBA)-Biomembranes 1788.1 (2009): 225-233.\n",
    "\n",
    "[2] Zgorski, Andrew, and Edward Lyman. \"Toward Hydrodynamics with Solvent Free Lipid Models: STRD Martini.\" Biophysical journal 111.12 (2016): 2689-2697."
   ]
  },
  {
   "cell_type": "code",
   "execution_count": null,
   "metadata": {
    "collapsed": true
   },
   "outputs": [],
   "source": []
  }
 ],
 "metadata": {
  "git": {
   "suppress_outputs": true
  },
  "kernelspec": {
   "display_name": "Python 3",
   "language": "python",
   "name": "python3"
  },
  "language_info": {
   "codemirror_mode": {
    "name": "ipython",
    "version": 3
   },
   "file_extension": ".py",
   "mimetype": "text/x-python",
   "name": "python",
   "nbconvert_exporter": "python",
   "pygments_lexer": "ipython3",
   "version": "3.5.2"
  },
  "toc": {
   "colors": {
    "hover_highlight": "#DAA520",
    "navigate_num": "#000000",
    "navigate_text": "#333333",
    "running_highlight": "#FF0000",
    "selected_highlight": "#FFD700",
    "sidebar_border": "#EEEEEE",
    "wrapper_background": "#FFFFFF"
   },
   "moveMenuLeft": true,
   "nav_menu": {
    "height": "512px",
    "width": "252px"
   },
   "navigate_menu": true,
   "number_sections": true,
   "sideBar": true,
   "threshold": 4,
   "toc_cell": false,
   "toc_section_display": "block",
   "toc_window_display": true,
   "widenNotebook": false
  }
 },
 "nbformat": 4,
 "nbformat_minor": 1
}