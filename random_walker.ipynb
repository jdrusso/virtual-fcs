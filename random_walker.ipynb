{
 "cells": [
  {
   "cell_type": "code",
   "execution_count": 3,
   "metadata": {
    "ExecuteTime": {
     "end_time": "2019-04-04T23:14:43.893134Z",
     "start_time": "2019-04-04T23:14:43.658854Z"
    },
    "collapsed": true
   },
   "outputs": [],
   "source": [
    "%matplotlib inline"
   ]
  },
  {
   "cell_type": "markdown",
   "metadata": {},
   "source": [
    "# Random Walk\n",
    "This notebook simulates a random walk for some amount of particles. This can be plugged into the FCS notebook to calculate diffusion constants of the random walk particles, as a sanity check."
   ]
  },
  {
   "cell_type": "markdown",
   "metadata": {},
   "source": [
    "## Trajectory Attributes\n",
    "\n",
    "The core object used in the virtual FCS notebook is a Trajectory object."
   ]
  },
  {
   "cell_type": "markdown",
   "metadata": {},
   "source": [
    "\n",
    "\n",
    "### `Trajectory.xyz[frame_index, atom_index]`\n",
    "2-D Numpy array storing tuples of (X,Y,Z) coordinates for each atom `atom_index` at each time step `frame_index`\n",
    "\n",
    "#### `Trajectory.topology.n_residues`\n",
    "Integer, number of residues/atoms. Equivalent for this purpose\n",
    "\n",
    "#### `Trajectory.topology.atoms`\n",
    "List of `atom` objects. Each `atom` object should have an attribute `atom.index` that's its index in the Trajectory, for use in `Trajectory.xyz`"
   ]
  },
  {
   "cell_type": "markdown",
   "metadata": {},
   "source": [
    "## Random Walk Parameters"
   ]
  },
  {
   "cell_type": "code",
   "execution_count": 4,
   "metadata": {
    "ExecuteTime": {
     "end_time": "2019-04-04T23:14:43.897001Z",
     "start_time": "2019-04-04T23:14:43.894402Z"
    },
    "collapsed": true
   },
   "outputs": [],
   "source": [
    "N_WALKERS = 100\n",
    "\n",
    "TSTEPS = 50000\n",
    "\n",
    "D = 7"
   ]
  },
  {
   "cell_type": "code",
   "execution_count": 5,
   "metadata": {
    "ExecuteTime": {
     "end_time": "2019-04-04T23:14:43.906178Z",
     "start_time": "2019-04-04T23:14:43.898402Z"
    },
    "collapsed": true
   },
   "outputs": [],
   "source": [
    "import numpy as np\n",
    "import matplotlib.pyplot as plt\n",
    "from trajectory import Atom, Topology, FakeTrajectory"
   ]
  },
  {
   "cell_type": "markdown",
   "metadata": {},
   "source": [
    "### Run simulation"
   ]
  },
  {
   "cell_type": "code",
   "execution_count": 6,
   "metadata": {
    "ExecuteTime": {
     "end_time": "2019-04-04T23:14:43.969054Z",
     "start_time": "2019-04-04T23:14:43.907428Z"
    }
   },
   "outputs": [
    {
     "name": "stdout",
     "output_type": "stream",
     "text": [
      "1183.2159566199232\n",
      "CPU times: user 22 ms, sys: 29.6 ms, total: 51.6 ms\n",
      "Wall time: 52.4 ms\n"
     ]
    }
   ],
   "source": [
    "%%time\n",
    "d_scaling = np.sqrt(4*D)\n",
    "\n",
    "xyz = np.full(shape=(TSTEPS, N_WALKERS, 3), fill_value=[0.0,0.0,0.0])\n",
    "_RMSD = np.sqrt(TSTEPS * 4 * D)\n",
    "\n",
    "print(_RMSD)"
   ]
  },
  {
   "cell_type": "code",
   "execution_count": 7,
   "metadata": {
    "ExecuteTime": {
     "end_time": "2019-04-04T23:14:44.995902Z",
     "start_time": "2019-04-04T23:14:43.970696Z"
    },
    "code_folding": [],
    "collapsed": true
   },
   "outputs": [],
   "source": [
    "for w in range(N_WALKERS):\n",
    "    \n",
    "    xyz[1:,w,0] = np.cumsum(np.cos(np.random.uniform(0,2,TSTEPS-1) * np.pi) * d_scaling )\n",
    "    xyz[1:,w,1] = np.cumsum(np.sin(np.random.uniform(0,2,TSTEPS-1) * np.pi) * d_scaling )\n",
    "    \n",
    "    # Add initial offset\n",
    "    xyz[:,w,0] += np.random.uniform(-_RMSD,_RMSD)\n",
    "    xyz[:,w,1] += np.random.uniform(-_RMSD,_RMSD)"
   ]
  },
  {
   "cell_type": "markdown",
   "metadata": {},
   "source": [
    "## Calculate Diffusion Constant"
   ]
  },
  {
   "cell_type": "code",
   "execution_count": 8,
   "metadata": {
    "ExecuteTime": {
     "end_time": "2019-04-04T23:14:45.005840Z",
     "start_time": "2019-04-04T23:14:44.997363Z"
    }
   },
   "outputs": [
    {
     "name": "stdout",
     "output_type": "stream",
     "text": [
      "MSD should be 1183.215957\n",
      "D is set to 7.000000, calculated at 6.918006\n"
     ]
    }
   ],
   "source": [
    "MSD = np.mean([(xyz[TSTEPS-1,w,0]-xyz[0,w,0])**2 + (xyz[0,w,1] - xyz[TSTEPS-1,w,1])**2 for w in range(N_WALKERS)])\n",
    "\n",
    "print(\"MSD should be %f\" % np.sqrt(TSTEPS * 4 * D))\n",
    "print(\"D is set to %f, calculated at %f\" % (D, MSD/(4 * TSTEPS)))"
   ]
  },
  {
   "cell_type": "raw",
   "metadata": {
    "ExecuteTime": {
     "end_time": "2019-04-02T21:18:19.949812Z",
     "start_time": "2019-04-02T21:18:19.932649Z"
    }
   },
   "source": [
    "xyz[1,1] \n",
    "    \n",
    "print(len(xyz))\n",
    "t = FakeTrajectory()\n",
    "t.initialize(xyz, N_WALKERS)\n",
    "\n",
    "print(len(t.xyz))\n",
    "print(t.topology.n_residues)\n",
    "print(t.topology.atoms[3].index)\n",
    "\n",
    "with open('../../windrive/linux/D%d.pkl' % D, 'wb') as output:\n",
    "    import pickle\n",
    "    pickle.dump(t, output)\n",
    "\n",
    "# t.reduce(.5)\n",
    "# len(t)"
   ]
  },
  {
   "cell_type": "code",
   "execution_count": 9,
   "metadata": {
    "ExecuteTime": {
     "end_time": "2019-04-04T23:14:45.011666Z",
     "start_time": "2019-04-04T23:14:45.007443Z"
    },
    "collapsed": true
   },
   "outputs": [],
   "source": [
    "#len(pickle.dumps(t, -1))\n",
    "# %run fcs_notebook.ipynb"
   ]
  },
  {
   "cell_type": "markdown",
   "metadata": {},
   "source": [
    "## Plot Walks"
   ]
  },
  {
   "cell_type": "code",
   "execution_count": 10,
   "metadata": {
    "ExecuteTime": {
     "end_time": "2019-04-04T23:14:46.494440Z",
     "start_time": "2019-04-04T23:14:45.013470Z"
    }
   },
   "outputs": [
    {
     "data": {
      "image/png": "[encoded data removed]",
      "text/plain": [
       "<matplotlib.figure.Figure at 0x7fb01f23ed30>"
      ]
     },
     "metadata": {},
     "output_type": "display_data"
    }
   ],
   "source": [
    "for w in range(0,N_WALKERS, 1):\n",
    "\n",
    "    plt.plot(xyz[:10000,w,0], xyz[:10000,w,1], linestyle='-')"
   ]
  },
  {
   "cell_type": "code",
   "execution_count": 11,
   "metadata": {
    "ExecuteTime": {
     "end_time": "2019-04-04T23:14:46.498007Z",
     "start_time": "2019-04-04T23:14:46.495692Z"
    },
    "collapsed": true
   },
   "outputs": [],
   "source": [
    "# import pickle\n",
    "# t = pickle.load(open('../../windrive/linux/output.pkl', 'rb'))\n",
    "\n",
    "# for w in range(0,t.topology.n_residues, 10):\n",
    "\n",
    "#     plt.plot(t.xyz[:10000,w,0], t.xyz[:10000,w,1], linestyle='-')"
   ]
  },
  {
   "cell_type": "markdown",
   "metadata": {
    "collapsed": true
   },
   "source": [
    "## Test code for computing D using MSD and step length"
   ]
  },
  {
   "cell_type": "markdown",
   "metadata": {},
   "source": [
    "### MSD"
   ]
  },
  {
   "cell_type": "code",
   "execution_count": 12,
   "metadata": {
    "ExecuteTime": {
     "end_time": "2019-04-04T23:14:55.577476Z",
     "start_time": "2019-04-04T23:14:46.499118Z"
    },
    "collapsed": true
   },
   "outputs": [],
   "source": [
    "total_MSD = np.mean([(xyz[TSTEPS-1,w,0]-xyz[0,w,0])**2 + \\\n",
    "               (xyz[0,w,1] - xyz[TSTEPS-1,w,1])**2 \\\n",
    "               for w in range(N_WALKERS)])\n",
    "\n",
    "step_lengths = []\n",
    "for w in range(N_WALKERS):\n",
    "    _step_lengths = []\n",
    "    \n",
    "    for t in range(1,TSTEPS):\n",
    "        step = (xyz[t, w, 0] - xyz[t-1, w, 0]) **2 + \\\n",
    "                    (xyz[t, w, 1] - xyz[t-1, w, 1]) **2\n",
    "        _step_lengths.append( step )\n",
    "    \n",
    "    step_lengths.append(_step_lengths)"
   ]
  },
  {
   "cell_type": "code",
   "execution_count": 14,
   "metadata": {
    "ExecuteTime": {
     "end_time": "2019-04-04T23:15:58.830257Z",
     "start_time": "2019-04-04T23:15:56.702958Z"
    }
   },
   "outputs": [
    {
     "name": "stdout",
     "output_type": "stream",
     "text": [
      "55.99993289920157\n",
      "Mean squared step length is 28.000642742620727\n",
      "D is 7.000160685655182\n"
     ]
    },
    {
     "data": {
      "image/png": "[encoded data removed]",
      "text/plain": [
       "<matplotlib.figure.Figure at 0x7fafdfe1eb70>"
      ]
     },
     "metadata": {},
     "output_type": "display_data"
    }
   ],
   "source": [
    "flattened = [y for x in step_lengths for y in x]\n",
    "print(max(flattened))\n",
    "\n",
    "hist, bins = np.histogram(flattened, bins=10)\n",
    "n, _bins, patches = plt.hist(flattened, bins='auto')\n",
    "\n",
    "# Calculate the mean step length across all walkers\n",
    "mean_step_length = np.mean(step_lengths)\n",
    "\n",
    "print(\"Mean squared step length is {}\".format(mean_step_length))\n",
    "\n",
    "_D = mean_step_length/4\n",
    "\n",
    "print(\"D is {}\".format(_D))"
   ]
  },
  {
   "cell_type": "code",
   "execution_count": 15,
   "metadata": {
    "ExecuteTime": {
     "end_time": "2019-04-04T23:15:59.486544Z",
     "start_time": "2019-04-04T23:15:58.849393Z"
    }
   },
   "outputs": [
    {
     "data": {
      "text/plain": [
       "[<matplotlib.lines.Line2D at 0x7fafdfcaafd0>]"
      ]
     },
     "execution_count": 15,
     "metadata": {},
     "output_type": "execute_result"
    },
    {
     "data": {
      "image/png": "[encoded data removed]",
      "text/plain": [
       "<matplotlib.figure.Figure at 0x7fb015ddee80>"
      ]
     },
     "metadata": {},
     "output_type": "display_data"
    }
   ],
   "source": [
    "plt.plot(flattened[::100])"
   ]
  },
  {
   "cell_type": "markdown",
   "metadata": {
    "ExecuteTime": {
     "end_time": "2019-04-02T21:50:38.573433Z",
     "start_time": "2019-04-02T21:50:38.569337Z"
    }
   },
   "source": [
    "Do a curvefit on a Rayleigh distribution to find parameters of the distribution.\n",
    "\n",
    "Step size for a 2D random walk should follow a Rayleigh distribution\n",
    "\n",
    "**THIS IS JUNK, but the curve fit procedure may be useful later**"
   ]
  },
  {
   "cell_type": "raw",
   "metadata": {
    "ExecuteTime": {
     "end_time": "2019-04-02T22:56:53.015988Z",
     "start_time": "2019-04-02T22:56:22.850508Z"
    }
   },
   "source": [
    "param = rayleigh.fit(flattened)\n",
    "print(param)"
   ]
  },
  {
   "cell_type": "raw",
   "metadata": {
    "ExecuteTime": {
     "end_time": "2019-04-02T22:56:53.020928Z",
     "start_time": "2019-04-02T22:56:53.017598Z"
    }
   },
   "source": [
    "rayleigh.pdf(16,*param)"
   ]
  },
  {
   "cell_type": "raw",
   "metadata": {
    "ExecuteTime": {
     "end_time": "2019-04-02T22:57:12.749473Z",
     "start_time": "2019-04-02T22:57:11.326039Z"
    }
   },
   "source": [
    "from scipy.optimize import curve_fit\n",
    "from scipy.stats import rayleigh\n",
    "\n",
    "# g = lambda x, loc, scale: rayleigh.pdf(x, loc, scale)\n",
    "\n",
    "# popt, pcov = curve_fit(g, _bins[:-1], n)\n",
    "\n",
    "\n",
    "plt.plot(_bins, rayleigh.pdf(_bins, *param), 'r-')\n",
    "\n",
    "plt.hist(flattened, bins='auto', normed=True)\n",
    "\n",
    "\n",
    "print(\"loc={}, scale={}\".format(*popt))\n",
    "print(np.sqrt(np.diag(pcov)))"
   ]
  }
 ],
 "metadata": {
  "kernelspec": {
   "display_name": "Python 3",
   "language": "python",
   "name": "python3"
  },
  "language_info": {
   "codemirror_mode": {
    "name": "ipython",
    "version": 3
   },
   "file_extension": ".py",
   "mimetype": "text/x-python",
   "name": "python",
   "nbconvert_exporter": "python",
   "pygments_lexer": "ipython3",
   "version": "3.5.2"
  },
  "toc": {
   "colors": {
    "hover_highlight": "#DAA520",
    "navigate_num": "#000000",
    "navigate_text": "#333333",
    "running_highlight": "#FF0000",
    "selected_highlight": "#FFD700",
    "sidebar_border": "#EEEEEE",
    "wrapper_background": "#FFFFFF"
   },
   "moveMenuLeft": true,
   "nav_menu": {
    "height": "229px",
    "width": "252px"
   },
   "navigate_menu": true,
   "number_sections": true,
   "sideBar": true,
   "threshold": 4,
   "toc_cell": false,
   "toc_section_display": "block",
   "toc_window_display": true,
   "widenNotebook": false
  }
 },
 "nbformat": 4,
 "nbformat_minor": 1
}
